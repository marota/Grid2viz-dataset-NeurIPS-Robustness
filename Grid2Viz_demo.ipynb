{
 "cells": [
  {
   "cell_type": "markdown",
   "metadata": {},
   "source": [
    "# Grid2Viz demo using Jupyter Dash\n",
    "Through this notebook you will be able to launch the Grid2Viz app.\n",
    "\n",
    "Visiting next the resulting url that is shown will allow you to play with the app in your browser\n",
    "\n"
   ]
  },
  {
   "cell_type": "code",
   "execution_count": 1,
   "metadata": {},
   "outputs": [],
   "source": [
    "import grid2viz"
   ]
  },
  {
   "cell_type": "markdown",
   "metadata": {},
   "source": [
    "#### Jupyter Dash\n",
    "The `jupyter-dash` package makes it easy to develop Plotly Dash apps from the Jupyter Notebook and JupyterLab.\n",
    "\n",
    "Just replace the standard `dash.Dash` class with the `jupyter_dash.JupyterDash` subclass."
   ]
  },
  {
   "cell_type": "markdown",
   "metadata": {},
   "source": [
    "#### Tip: Get back to your home repository\n",
    "Click on the jupyter logo on the top left"
   ]
  },
  {
   "cell_type": "markdown",
   "metadata": {},
   "source": [
    "## Configuration"
   ]
  },
  {
   "cell_type": "code",
   "execution_count": 2,
   "metadata": {},
   "outputs": [
    {
     "data": {
      "text/plain": [
       "'/Users/antoinemarot/dev/Grid2viz-dataset-NeurIPS-Robustness'"
      ]
     },
     "execution_count": 2,
     "metadata": {},
     "output_type": "execute_result"
    }
   ],
   "source": [
    "import os\n",
    "pkg_root_dir = !pwd\n",
    "pkg_root_dir=pkg_root_dir[0]\n",
    "pkg_root_dir"
   ]
  },
  {
   "cell_type": "markdown",
   "metadata": {},
   "source": [
    "#### Choose Dataset to explore with grid2viz"
   ]
  },
  {
   "cell_type": "code",
   "execution_count": 3,
   "metadata": {},
   "outputs": [],
   "source": [
    "#short demo\n",
    "#dataset_agent_log_path = os.path.join(pkg_root_dir,\"grid2viz\", \"data\", \"agents\")\n",
    "\n",
    "#complete demo over some \"warm-up\" scenarios of NeurIPS robustness track competition\n",
    "#dataset_agent_log_path=os.path.join(pkg_root_dir,\"Grid2viz-dataset\", \"NeurIPS_1.2.2_week1\")\n",
    "\n",
    "#Best demo over some \"test\" scenarios of NeurIPS robustness track competition\n",
    "dataset_agent_log_path=os.path.join(pkg_root_dir,\"res_agents\")\n"
   ]
  },
  {
   "cell_type": "markdown",
   "metadata": {},
   "source": [
    "#### Generating necessary config for grid2viz"
   ]
  },
  {
   "cell_type": "code",
   "execution_count": 4,
   "metadata": {},
   "outputs": [],
   "source": [
    "\n",
    "def create_config(dataset_agent_log_path):\n",
    "    \n",
    "\n",
    "    os.environ[\"GRID2VIZ_ROOT\"] = pkg_root_dir\n",
    "\n",
    "    config_path = os.path.join(pkg_root_dir, \"config.ini\")\n",
    "    \n",
    "    CONFIG_FILE_CONTENT = \"\"\"\n",
    "    # This file have been automatically generated, please do not modify it. \n",
    "    # You can remove it once done with the application.\n",
    "    [DEFAULT]\n",
    "    agents_dir={agents_dir}\n",
    "    env_dir={env_dir}\n",
    "    n_cores={n_cores}\n",
    "    # This file will be re generated to each call of \"python -m grid2viz.main\"\n",
    "    \"\"\"\n",
    "\n",
    "\n",
    "    #complete demo over some \"warm-up\" scenarios of NeurIPS robustness track competition\n",
    "    agents_dir = dataset_agent_log_path#os.path.join(pkg_root_dir,\"Grid2viz-dataset\", \"NeurIPS_1.2.2_week1\")\n",
    "\n",
    "\n",
    "    env_dir = os.path.join(pkg_root_dir,\"grid2viz\", \"data\", \"env_conf\")\n",
    "\n",
    "\n",
    "    n_cores = 2#args.n_cores\n",
    "\n",
    "    with open(config_path, \"w\") as f:\n",
    "        f.write(CONFIG_FILE_CONTENT.format(agents_dir=agents_dir,\n",
    "                                           env_dir=env_dir,\n",
    "                                           n_cores=n_cores))"
   ]
  },
  {
   "cell_type": "markdown",
   "metadata": {},
   "source": [
    "Writing the config-file to launch the app"
   ]
  },
  {
   "cell_type": "code",
   "execution_count": 5,
   "metadata": {},
   "outputs": [],
   "source": [
    "create_config(dataset_agent_log_path)"
   ]
  },
  {
   "cell_type": "markdown",
   "metadata": {},
   "source": [
    "## Launching Grid2viz\n",
    "The **documentation** of the Grid2viz application can be found here: https://grid2viz.readthedocs.io/en/latest/"
   ]
  },
  {
   "cell_type": "code",
   "execution_count": 6,
   "metadata": {},
   "outputs": [],
   "source": [
    "#!pip install jupyter-dash"
   ]
  },
  {
   "cell_type": "markdown",
   "metadata": {},
   "source": [
    "**NOTE**:\n",
    "We run the following code `twice` to actually see the application runnning and get the url where to load the app"
   ]
  },
  {
   "cell_type": "code",
   "execution_count": 8,
   "metadata": {},
   "outputs": [],
   "source": [
    "#Run it twice sometimes to actually see it runnning and getting the url to go to paly the app\n",
    "from grid2viz.app_jupyter import app as app_jup\n",
    "app_jup.run_server()#mode=\"inline\",debug=True)"
   ]
  },
  {
   "cell_type": "code",
   "execution_count": 9,
   "metadata": {},
   "outputs": [
    {
     "name": "stderr",
     "output_type": "stream",
     "text": [
      "/Users/antoinemarot/dev/grid2viz/venv_grid2viz/lib/python3.8/site-packages/jupyter_dash/jupyter_app.py:139: UserWarning: The 'environ['werkzeug.server.shutdown']' function is deprecated and will be removed in Werkzeug 2.1.\n",
      "  func()\n"
     ]
    },
    {
     "name": "stdout",
     "output_type": "stream",
     "text": [
      "Dash app running on http://localhost:8888/proxy/8050/\n",
      "Loading from filesystem cache agent rl_agent on scenario apr42_1...\n"
     ]
    },
    {
     "name": "stderr",
     "output_type": "stream",
     "text": [
      "/Users/antoinemarot/dev/grid2viz/venv_grid2viz/lib/python3.8/site-packages/grid2op/Episode/EpisodeData.py:446: UserWarning:\n",
      "\n",
      "You are using a \"grid2op compatibility\" feature (the data you saved have been saved with a previous grid2op version). When we loaded your data, we attempted to not include most recent grid2op features. This is feature is not well tested. It would be wise to regenerate the data with the latest grid2Op version.\n",
      "\n"
     ]
    },
    {
     "name": "stdout",
     "output_type": "stream",
     "text": [
      "Agent rl_agent on scenario apr42_1 loaded from filesystem cache in: 11.6 s\n",
      "Loading from filesystem cache agent rl_agent on scenario aug01_2...\n",
      "Agent rl_agent on scenario aug01_2 loaded from filesystem cache in: 8.4 s\n",
      "Loading from filesystem cache agent rl_agent on scenario dec12_1...\n",
      "Agent rl_agent on scenario dec12_1 loaded from filesystem cache in: 4.4 s\n",
      "Loading from filesystem cache agent rl_agent on scenario feb40_2...\n",
      "Agent rl_agent on scenario feb40_2 loaded from filesystem cache in: 7.5 s\n",
      "Loading from filesystem cache agent rl_agent on scenario jan28_2...\n",
      "Agent rl_agent on scenario jan28_2 loaded from filesystem cache in: 6.9 s\n",
      "Loading from filesystem cache agent rl_agent on scenario jun01_2...\n",
      "Agent rl_agent on scenario jun01_2 loaded from filesystem cache in: 7.6 s\n",
      "Loading from filesystem cache agent rl_agent on scenario mar07_1...\n",
      "Agent rl_agent on scenario mar07_1 loaded from filesystem cache in: 7.4 s\n",
      "Loading from filesystem cache agent rl_agent on scenario may17_1...\n",
      "Agent rl_agent on scenario may17_1 loaded from filesystem cache in: 8.2 s\n",
      "Loading from filesystem cache agent rl_agent on scenario nov34_1...\n",
      "Agent rl_agent on scenario nov34_1 loaded from filesystem cache in: 3.0 s\n",
      "Loading from filesystem cache agent rl_agent on scenario oct21_1...\n",
      "Agent rl_agent on scenario oct21_1 loaded from filesystem cache in: 2.9 s\n",
      "Initial loading time for the best agent of all scenarios = 68.0 seconds\n"
     ]
    }
   ],
   "source": [
    "app_jup.run_server() #you should get the app url as the output of the cell"
   ]
  },
  {
   "cell_type": "code",
   "execution_count": null,
   "metadata": {},
   "outputs": [],
   "source": [
    "#if you want to run it in the notebook\n",
    "from grid2viz.app_jupyter import app as app_jup\n",
    "#app_jup.run_server(port=8052,mode=\"inline\")#mode=\"inline\",debug=True)\n",
    "app_jup.run_server(mode=\"jupyterlab\""
   ]
  },
  {
   "cell_type": "markdown",
   "metadata": {},
   "source": [
    "When running in JupyterLab, with the `jupyterlab-dash` extension, setting `mode=\"jupyterlab\"` will open the app in a tab in JupyterLab.\n",
    "\n",
    "```python\n",
    "app.run_server(mode=\"jupyterlab\")\n",
    "```"
   ]
  },
  {
   "cell_type": "code",
   "execution_count": null,
   "metadata": {},
   "outputs": [],
   "source": []
  }
 ],
 "metadata": {
  "jupytext": {
   "formats": "ipynb,py:percent"
  },
  "kernelspec": {
   "display_name": "Python 3",
   "language": "python",
   "name": "python3"
  },
  "language_info": {
   "codemirror_mode": {
    "name": "ipython",
    "version": 3
   },
   "file_extension": ".py",
   "mimetype": "text/x-python",
   "name": "python",
   "nbconvert_exporter": "python",
   "pygments_lexer": "ipython3",
   "version": "3.8.1"
  }
 },
 "nbformat": 4,
 "nbformat_minor": 4
}
